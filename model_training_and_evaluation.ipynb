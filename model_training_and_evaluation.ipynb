{
 "cells": [
  {
   "cell_type": "markdown",
   "metadata": {},
   "source": [
    "### 1.用协同过滤构建模型并进行预测"
   ]
  },
  {
   "cell_type": "markdown",
   "metadata": {},
   "source": [
    "#### 1.1 movielens的例子"
   ]
  },
  {
   "cell_type": "code",
   "execution_count": 2,
   "metadata": {},
   "outputs": [
    {
     "name": "stderr",
     "output_type": "stream",
     "text": [
      "/home/lei/.local/lib/python3.6/site-packages/surprise/evaluate.py:66: UserWarning: The evaluate() method is deprecated. Please use model_selection.cross_validate() instead.\n",
      "  'model_selection.cross_validate() instead.', UserWarning)\n",
      "/home/lei/.local/lib/python3.6/site-packages/surprise/dataset.py:193: UserWarning: Using data.split() or using load_from_folds() without using a CV iterator is now deprecated. \n",
      "  UserWarning)\n"
     ]
    },
    {
     "name": "stdout",
     "output_type": "stream",
     "text": [
      "Evaluating RMSE, MAE of algorithm KNNWithMeans.\n",
      "\n",
      "------------\n",
      "Fold 1\n",
      "Computing the msd similarity matrix...\n",
      "Done computing similarity matrix.\n",
      "RMSE: 0.9560\n",
      "MAE:  0.7515\n",
      "------------\n",
      "Fold 2\n",
      "Computing the msd similarity matrix...\n",
      "Done computing similarity matrix.\n",
      "RMSE: 0.9554\n",
      "MAE:  0.7514\n",
      "------------\n",
      "Fold 3\n",
      "Computing the msd similarity matrix...\n",
      "Done computing similarity matrix.\n",
      "RMSE: 0.9597\n",
      "MAE:  0.7575\n",
      "------------\n",
      "------------\n",
      "Mean RMSE: 0.9570\n",
      "Mean MAE : 0.7535\n",
      "------------\n",
      "------------\n",
      "        Fold 1  Fold 2  Fold 3  Mean    \n",
      "RMSE    0.9560  0.9554  0.9597  0.9570  \n",
      "MAE     0.7515  0.7514  0.7575  0.7535  \n"
     ]
    }
   ],
   "source": [
    "from surprise import KNNWithMeans\n",
    "from surprise import Dataset\n",
    "from surprise import evaluate, print_perf\n",
    "\n",
    "# load movielens dataset\n",
    "data = Dataset.load_builtin('ml-100k')\n",
    "# k fold cross validation\n",
    "data.split(n_folds=3)\n",
    "# SVD matrix decomposition\n",
    "algo = KNNWithMeans()\n",
    "# Sample test\n",
    "perf = evaluate(algo, data, measures=['RMSE', 'MAE']) # MAE for mean absolute error\n",
    "# output\n",
    "print_perf(perf)"
   ]
  },
  {
   "cell_type": "markdown",
   "metadata": {},
   "source": [
    "### Load local dataset"
   ]
  },
  {
   "cell_type": "code",
   "execution_count": 1,
   "metadata": {},
   "outputs": [
    {
     "name": "stdout",
     "output_type": "stream",
     "text": [
      "id to name dic built done\n",
      "name to id dic built done\n"
     ]
    }
   ],
   "source": [
    "import os\n",
    "import io\n",
    "\n",
    "from surprise import KNNBaseline, Reader\n",
    "from surprise import Dataset\n",
    "\n",
    "import pickle\n",
    "\n",
    "# build the mapping info from song id to song name\n",
    "id_name_dic = pickle.load(open(\"../data/popular_playlist.pkl\", \"rb\"))\n",
    "print(\"id to name dic built done\")\n",
    "name_id_dic = {}\n",
    "for playlist_id in id_name_dic:\n",
    "    name_id_dic[id_name_dic[playlist_id]] = playlist_id\n",
    "print(\"name to id dic built done\")"
   ]
  },
  {
   "cell_type": "code",
   "execution_count": 2,
   "metadata": {},
   "outputs": [
    {
     "name": "stdout",
     "output_type": "stream",
     "text": [
      "building dataset..\n"
     ]
    }
   ],
   "source": [
    "file_path = os.path.expanduser('../data/popular_music_suprise_format.txt')\n",
    "# set format\n",
    "reader = Reader(line_format='user item rating timestamp', sep=',')\n",
    "# read data\n",
    "music_data = Dataset.load_from_file(file_path=file_path, reader=reader)\n",
    "# calcuate the similarity of songs\n",
    "print('building dataset..')\n",
    "train_set = music_data.build_full_trainset()"
   ]
  },
  {
   "cell_type": "code",
   "execution_count": 6,
   "metadata": {},
   "outputs": [
    {
     "data": {
      "text/plain": [
       "130573"
      ]
     },
     "execution_count": 6,
     "metadata": {},
     "output_type": "execute_result"
    }
   ],
   "source": [
    "train_set.n_items"
   ]
  },
  {
   "cell_type": "code",
   "execution_count": 7,
   "metadata": {},
   "outputs": [
    {
     "data": {
      "text/plain": [
       "3771"
      ]
     },
     "execution_count": 7,
     "metadata": {},
     "output_type": "execute_result"
    }
   ],
   "source": [
    "train_set.n_users"
   ]
  },
  {
   "cell_type": "markdown",
   "metadata": {},
   "source": [
    "### Build model"
   ]
  },
  {
   "cell_type": "code",
   "execution_count": 18,
   "metadata": {},
   "outputs": [
    {
     "name": "stderr",
     "output_type": "stream",
     "text": [
      "/home/lei/.local/lib/python3.6/site-packages/surprise/prediction_algorithms/algo_base.py:51: UserWarning: train() is deprecated. Use fit() instead\n",
      "  warnings.warn('train() is deprecated. Use fit() instead', UserWarning)\n"
     ]
    },
    {
     "name": "stdout",
     "output_type": "stream",
     "text": [
      "Estimating biases using als...\n",
      "Computing the msd similarity matrix...\n",
      "Done computing similarity matrix.\n"
     ]
    },
    {
     "data": {
      "text/plain": [
       "<surprise.prediction_algorithms.knns.KNNBaseline at 0x7f1a665d96d8>"
      ]
     },
     "execution_count": 18,
     "metadata": {},
     "output_type": "execute_result"
    }
   ],
   "source": [
    "algo = KNNBaseline()\n",
    "algo.train(train_set)"
   ]
  },
  {
   "cell_type": "markdown",
   "metadata": {},
   "source": [
    "### Test model"
   ]
  },
  {
   "cell_type": "code",
   "execution_count": 20,
   "metadata": {},
   "outputs": [
    {
     "name": "stdout",
     "output_type": "stream",
     "text": [
      "Current playlist:  李宗盛 理性与感性 作品音乐会\n",
      "Id of playlist:  74920010\n",
      "Inner id of playlist:  89\n",
      "\n",
      "the nearest 10 playlist of  李宗盛 理性与感性 作品音乐会 are:\n",
      "没有吉他我就唱不出歌·续 1\n",
      "听了五年还不舍得删的华语歌 24\n",
      "华语经典怀旧歌曲(女人篇) 43\n",
      "至少有十首歌给你安慰 63\n",
      "老人老歌 71\n",
      "换个版本，再听一次！（华语篇） 91\n",
      "别走，你没有来错地方 93\n",
      "™ 网易• 典藏• 华语篇• 总有一首❤ 97\n",
      "评论过万的中文歌与潜力股 101\n",
      "程一电台音乐歌单-华语 110\n"
     ]
    }
   ],
   "source": [
    "current_playlist = list(name_id_dic.keys())[89]\n",
    "print(\"Current playlist: \", current_playlist)\n",
    "\n",
    "# get neighbors\n",
    "playlist_id = name_id_dic[current_playlist]\n",
    "print(\"Id of playlist: \", playlist_id)\n",
    "playlist_inner_id = algo.trainset.to_inner_uid(playlist_id)\n",
    "print(\"Inner id of playlist: \", playlist_inner_id)\n",
    "\n",
    "playlist_neighbors = algo.get_neighbors(playlist_inner_id, 10)\n",
    "\n",
    "# convert song id to song name\n",
    "playlist_neighbors = (algo.trainset.to_raw_uid(inner_id)\n",
    "                     for inner_id in playlist_neighbors)\n",
    "playlist_neighbors = (id_name_dic[playlist_id]\n",
    "                     for playlist_id in playlist_neighbors)\n",
    "\n",
    "print()\n",
    "print('the nearest 10 playlist of ', current_playlist, 'are:')\n",
    "for playlist in playlist_neighbors:\n",
    "    print(playlist, algo.trainset.to_inner_uid(name_id_dic[playlist]))"
   ]
  },
  {
   "cell_type": "markdown",
   "metadata": {},
   "source": [
    "### Make prediction which targeting to user"
   ]
  },
  {
   "cell_type": "code",
   "execution_count": 21,
   "metadata": {},
   "outputs": [],
   "source": [
    "song_id_name_dic = pickle.load(open(\"../data/popular_song.pkl\", \"rb\"))\n",
    "song_name_id_dic = {}\n",
    "for song_id in song_id_name_dic:\n",
    "    song_name_id_dic[song_id_name_dic[song_id]] = song_id"
   ]
  },
  {
   "cell_type": "code",
   "execution_count": 26,
   "metadata": {},
   "outputs": [
    {
     "name": "stdout",
     "output_type": "stream",
     "text": [
      "user: 4          item: 361        r_ui = 1.00   est = 1.00   {'was_impossible': False} 家\t许巍\n",
      "user: 4          item: 362        r_ui = 1.00   est = 1.00   {'was_impossible': False} 老街\t李荣浩\n",
      "user: 4          item: 363        r_ui = 1.00   est = 1.00   {'was_impossible': False} 滴答\t侃侃\n",
      "user: 4          item: 364        r_ui = 1.00   est = 1.00   {'was_impossible': False} 彩虹\t周杰伦\n",
      "user: 4          item: 365        r_ui = 1.00   est = 1.00   {'was_impossible': False} 米店\t张玮玮和郭龙\n",
      "user: 4          item: 366        r_ui = 1.00   est = 1.00   {'was_impossible': False} 情人\tBeyond\n",
      "user: 4          item: 367        r_ui = 1.00   est = 1.00   {'was_impossible': False} 喜欢你\tBeyond\n",
      "user: 4          item: 220        r_ui = 1.00   est = 1.00   {'was_impossible': False} 灰姑娘\t郑钧\n",
      "user: 4          item: 235        r_ui = 1.00   est = 1.00   {'was_impossible': False} 安和桥\t宋冬野\n",
      "user: 4          item: 240        r_ui = 1.00   est = 1.00   {'was_impossible': False} 去大理\t郝云\n",
      "user: 4          item: 368        r_ui = 1.00   est = 1.00   {'was_impossible': False} 好久不见\t陈奕迅\n",
      "user: 4          item: 369        r_ui = 1.00   est = 1.00   {'was_impossible': False} 那些花儿\t朴树\n",
      "user: 4          item: 50         r_ui = 1.00   est = 1.00   {'was_impossible': False} 当你老了\t赵照\n",
      "user: 4          item: 244        r_ui = 1.00   est = 1.00   {'was_impossible': False} 且听风吟\t朴树\n",
      "user: 4          item: 264        r_ui = 1.00   est = 1.00   {'was_impossible': False} 同桌的你\t老狼\n",
      "user: 4          item: 297        r_ui = 1.00   est = 1.00   {'was_impossible': False} 斑马，斑马\t宋冬野\n",
      "user: 4          item: 370        r_ui = 1.00   est = 1.00   {'was_impossible': False} 花房姑娘(翻唱崔健)\t花粥\n",
      "user: 4          item: 339        r_ui = 1.00   est = 1.00   {'was_impossible': False} 北方的女王(demo)\t尧十三\n",
      "user: 4          item: 371        r_ui = 1.00   est = 1.00   {'was_impossible': False} 外面的世界\t莫文蔚\n",
      "user: 4          item: 372        r_ui = 1.00   est = 1.00   {'was_impossible': False} 我真的受伤了\t王菀之\n",
      "user: 4          item: 373        r_ui = 1.00   est = 1.00   {'was_impossible': False} 再见吧喵小姐\t王晓天\n",
      "user: 4          item: 374        r_ui = 1.00   est = 1.00   {'was_impossible': False} 你知道我在等你吗\t张洪量\n"
     ]
    }
   ],
   "source": [
    "user_inner_id = 4\n",
    "user_rating = train_set.ur[user_inner_id]\n",
    "\n",
    "items = map(lambda x:x[0], user_rating)\n",
    "for song in items:\n",
    "    print(algo.predict(user_inner_id, song, r_ui=1), song_id_name_dic[algo.trainset.to_raw_iid(song)])"
   ]
  },
  {
   "cell_type": "markdown",
   "metadata": {},
   "source": [
    "### Use matrix decomposition to make the prediction"
   ]
  },
  {
   "cell_type": "code",
   "execution_count": 20,
   "metadata": {},
   "outputs": [
    {
     "name": "stderr",
     "output_type": "stream",
     "text": [
      "/home/lei/.local/lib/python3.6/site-packages/surprise/prediction_algorithms/algo_base.py:51: UserWarning: train() is deprecated. Use fit() instead\n",
      "  warnings.warn('train() is deprecated. Use fit() instead', UserWarning)\n"
     ]
    },
    {
     "data": {
      "text/plain": [
       "<surprise.prediction_algorithms.matrix_factorization.NMF at 0x7f880924c940>"
      ]
     },
     "execution_count": 20,
     "metadata": {},
     "output_type": "execute_result"
    }
   ],
   "source": [
    "from surprise import NMF, evaluate\n",
    "\n",
    "file_path = os.path.expanduser(\"../data/popular_music_suprise_format.txt\")\n",
    "reader = Reader(line_format=\"user item rating timestamp\", sep=',')\n",
    "music_data = Dataset.load_from_file(file_path=file_path, reader=reader)\n",
    "\n",
    "algo = NMF()\n",
    "trainset = music_data.build_full_trainset()\n",
    "algo.train(trainset=trainset)"
   ]
  },
  {
   "cell_type": "code",
   "execution_count": 21,
   "metadata": {},
   "outputs": [
    {
     "name": "stdout",
     "output_type": "stream",
     "text": [
      "user: 4          item: 361        r_ui = 1.00   est = 1.00   {'was_impossible': True, 'reason': 'User and item are unkown.'} 家\t许巍\n",
      "user: 4          item: 362        r_ui = 1.00   est = 1.00   {'was_impossible': True, 'reason': 'User and item are unkown.'} 老街\t李荣浩\n",
      "user: 4          item: 363        r_ui = 1.00   est = 1.00   {'was_impossible': True, 'reason': 'User and item are unkown.'} 滴答\t侃侃\n",
      "user: 4          item: 364        r_ui = 1.00   est = 1.00   {'was_impossible': True, 'reason': 'User and item are unkown.'} 彩虹\t周杰伦\n",
      "user: 4          item: 365        r_ui = 1.00   est = 1.00   {'was_impossible': True, 'reason': 'User and item are unkown.'} 米店\t张玮玮和郭龙\n",
      "user: 4          item: 366        r_ui = 1.00   est = 1.00   {'was_impossible': True, 'reason': 'User and item are unkown.'} 情人\tBeyond\n",
      "user: 4          item: 367        r_ui = 1.00   est = 1.00   {'was_impossible': True, 'reason': 'User and item are unkown.'} 喜欢你\tBeyond\n",
      "user: 4          item: 220        r_ui = 1.00   est = 1.00   {'was_impossible': True, 'reason': 'User and item are unkown.'} 灰姑娘\t郑钧\n",
      "user: 4          item: 235        r_ui = 1.00   est = 1.00   {'was_impossible': True, 'reason': 'User and item are unkown.'} 安和桥\t宋冬野\n",
      "user: 4          item: 240        r_ui = 1.00   est = 1.00   {'was_impossible': True, 'reason': 'User and item are unkown.'} 去大理\t郝云\n",
      "user: 4          item: 368        r_ui = 1.00   est = 1.00   {'was_impossible': True, 'reason': 'User and item are unkown.'} 好久不见\t陈奕迅\n",
      "user: 4          item: 369        r_ui = 1.00   est = 1.00   {'was_impossible': True, 'reason': 'User and item are unkown.'} 那些花儿\t朴树\n",
      "user: 4          item: 50         r_ui = 1.00   est = 1.00   {'was_impossible': True, 'reason': 'User and item are unkown.'} 当你老了\t赵照\n",
      "user: 4          item: 244        r_ui = 1.00   est = 1.00   {'was_impossible': True, 'reason': 'User and item are unkown.'} 且听风吟\t朴树\n",
      "user: 4          item: 264        r_ui = 1.00   est = 1.00   {'was_impossible': True, 'reason': 'User and item are unkown.'} 同桌的你\t老狼\n",
      "user: 4          item: 297        r_ui = 1.00   est = 1.00   {'was_impossible': True, 'reason': 'User and item are unkown.'} 斑马，斑马\t宋冬野\n",
      "user: 4          item: 370        r_ui = 1.00   est = 1.00   {'was_impossible': True, 'reason': 'User and item are unkown.'} 花房姑娘(翻唱崔健)\t花粥\n",
      "user: 4          item: 339        r_ui = 1.00   est = 1.00   {'was_impossible': True, 'reason': 'User and item are unkown.'} 北方的女王(demo)\t尧十三\n",
      "user: 4          item: 371        r_ui = 1.00   est = 1.00   {'was_impossible': True, 'reason': 'User and item are unkown.'} 外面的世界\t莫文蔚\n",
      "user: 4          item: 372        r_ui = 1.00   est = 1.00   {'was_impossible': True, 'reason': 'User and item are unkown.'} 我真的受伤了\t王菀之\n",
      "user: 4          item: 373        r_ui = 1.00   est = 1.00   {'was_impossible': True, 'reason': 'User and item are unkown.'} 再见吧喵小姐\t王晓天\n",
      "user: 4          item: 374        r_ui = 1.00   est = 1.00   {'was_impossible': True, 'reason': 'User and item are unkown.'} 你知道我在等你吗\t张洪量\n"
     ]
    }
   ],
   "source": [
    "user_inner_id = 4\n",
    "user_rating = train_set.ur[user_inner_id]\n",
    "\n",
    "items = map(lambda x:x[0], user_rating)\n",
    "for song in items:\n",
    "    print(algo.predict(user_inner_id, song, r_ui=1), song_id_name_dic[algo.trainset.to_raw_iid(song)])"
   ]
  },
  {
   "cell_type": "markdown",
   "metadata": {},
   "source": [
    "### Save model"
   ]
  },
  {
   "cell_type": "code",
   "execution_count": 22,
   "metadata": {},
   "outputs": [],
   "source": [
    "import surprise\n",
    "\n",
    "surprise.dump.dump('./recommendation.model', algo=algo)\n",
    "\n",
    "# Load model\n",
    "algo = surprise.dump.load('./recommendation.model')"
   ]
  },
  {
   "cell_type": "markdown",
   "metadata": {},
   "source": [
    "### Test for other recommendation algorithms"
   ]
  },
  {
   "cell_type": "code",
   "execution_count": 23,
   "metadata": {},
   "outputs": [],
   "source": [
    "music_data.split(n_folds=5)"
   ]
  },
  {
   "cell_type": "code",
   "execution_count": 24,
   "metadata": {},
   "outputs": [
    {
     "data": {
      "text/plain": [
       "<surprise.dataset.DatasetAutoFolds at 0x7f87fdf02e80>"
      ]
     },
     "execution_count": 24,
     "metadata": {},
     "output_type": "execute_result"
    }
   ],
   "source": [
    "music_data"
   ]
  },
  {
   "cell_type": "code",
   "execution_count": 25,
   "metadata": {},
   "outputs": [
    {
     "data": {
      "text/plain": [
       "[('62659400', '29572804', 1.0, '1300000'),\n",
       " ('323848458', '29950533', 1.0, '1300000'),\n",
       " ('31177392', '25702070', 1.0, '1300000'),\n",
       " ('380843121', '3313653', 1.0, '1300000'),\n",
       " ('38052169', '321603', 1.0, '1300000'),\n",
       " ('30666384', '28288202', 1.0, '1300000'),\n",
       " ('41564652', '32619064', 1.0, '1300000'),\n",
       " ('415491808', '405599470', 1.0, '1300000'),\n",
       " ('534970837', '28095367', 1.0, '1300000'),\n",
       " ('76675156', '32897022', 1.0, '1300000'),\n",
       " ('66735851', '86279', 1.0, '1300000'),\n",
       " ('17270407', '132313', 1.0, '1300000'),\n",
       " ('328064266', '29775856', 1.0, '1300000'),\n",
       " ('91631821', '31165551', 1.0, '1300000'),\n",
       " ('36663696', '34364763', 1.0, '1300000'),\n",
       " ('124284945', '234014', 1.0, '1300000'),\n",
       " ('170747938', '5324813', 1.0, '1300000'),\n",
       " ('26558065', '185664', 1.0, '1300000'),\n",
       " ('87396960', '28406472', 1.0, '1300000'),\n",
       " ('406356708', '28987151', 1.0, '1300000')]"
      ]
     },
     "execution_count": 25,
     "metadata": {},
     "output_type": "execute_result"
    }
   ],
   "source": [
    "music_data.raw_ratings[:20]"
   ]
  },
  {
   "cell_type": "markdown",
   "metadata": {},
   "source": [
    "#### NormalPredictor"
   ]
  },
  {
   "cell_type": "code",
   "execution_count": 26,
   "metadata": {},
   "outputs": [
    {
     "name": "stderr",
     "output_type": "stream",
     "text": [
      "/home/lei/.local/lib/python3.6/site-packages/surprise/evaluate.py:66: UserWarning: The evaluate() method is deprecated. Please use model_selection.cross_validate() instead.\n",
      "  'model_selection.cross_validate() instead.', UserWarning)\n",
      "/home/lei/.local/lib/python3.6/site-packages/surprise/dataset.py:193: UserWarning: Using data.split() or using load_from_folds() without using a CV iterator is now deprecated. \n",
      "  UserWarning)\n"
     ]
    },
    {
     "name": "stdout",
     "output_type": "stream",
     "text": [
      "Evaluating RMSE, MAE of algorithm NormalPredictor.\n",
      "\n",
      "------------\n",
      "Fold 1\n",
      "RMSE: 0.0000\n",
      "MAE:  0.0000\n",
      "------------\n",
      "Fold 2\n",
      "RMSE: 0.0000\n",
      "MAE:  0.0000\n",
      "------------\n",
      "Fold 3\n",
      "RMSE: 0.0000\n",
      "MAE:  0.0000\n",
      "------------\n",
      "Fold 4\n",
      "RMSE: 0.0000\n",
      "MAE:  0.0000\n",
      "------------\n",
      "Fold 5\n",
      "RMSE: 0.0000\n",
      "MAE:  0.0000\n",
      "------------\n",
      "------------\n",
      "Mean RMSE: 0.0000\n",
      "Mean MAE : 0.0000\n",
      "------------\n",
      "------------\n",
      "defaultdict(<class 'list'>, {'rmse': [0.0, 0.0, 0.0, 0.0, 0.0], 'mae': [0.0, 0.0, 0.0, 0.0, 0.0]})\n"
     ]
    }
   ],
   "source": [
    "from surprise import NormalPredictor\n",
    "algo = NormalPredictor()\n",
    "perf = evaluate(algo, music_data, measures=['RMSE', 'MAE'])\n",
    "print(perf)"
   ]
  },
  {
   "cell_type": "code",
   "execution_count": null,
   "metadata": {},
   "outputs": [],
   "source": []
  }
 ],
 "metadata": {
  "kernelspec": {
   "display_name": "Python 3",
   "language": "python",
   "name": "python3"
  },
  "language_info": {
   "codemirror_mode": {
    "name": "ipython",
    "version": 3
   },
   "file_extension": ".py",
   "mimetype": "text/x-python",
   "name": "python",
   "nbconvert_exporter": "python",
   "pygments_lexer": "ipython3",
   "version": "3.6.7"
  }
 },
 "nbformat": 4,
 "nbformat_minor": 2
}
